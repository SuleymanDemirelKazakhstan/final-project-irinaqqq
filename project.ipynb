{
 "cells": [
  {
   "cell_type": "code",
   "execution_count": 175,
   "metadata": {},
   "outputs": [],
   "source": [
    "from spellchecker import SpellChecker\n",
    "import pandas as pd\n",
    "import numpy as np\n",
    "import csv\n",
    "spell = SpellChecker()"
   ]
  },
  {
   "cell_type": "code",
   "execution_count": 176,
   "metadata": {},
   "outputs": [],
   "source": [
    "spell.word_frequency.load_text_file(\"C:/Users/samat/Downloads/kk.txt\")"
   ]
  },
  {
   "cell_type": "code",
   "execution_count": 177,
   "metadata": {},
   "outputs": [
    {
     "name": "stdout",
     "output_type": "stream",
     "text": [
      "{'', 'бөліскім', 'сізді', 'түйген', 'ойларды', 'Сіздерді', 'және', 'мен', 'бастысы', 'өмірлік', 'басымнан', 'Осы', 'келеді', 'өзекті', 'ерекше', 'пайдалы', 'тырысамын', 'осындай', 'өткізген', 'каналымда', 'жалықтырмауға', 'де', 'сабақтар', 'телеграм'}\n"
     ]
    }
   ],
   "source": [
    "with open(\"C:/Users/samat/Downloads/Telegram Desktop/ChatExport_2022-12-29/messages.txt\", encoding='utf-8') as txtfile:\n",
    "    for line in txtfile:\n",
    "        rxr = {item.strip(\".,!\\n\") for item in line.split(' ')}\n",
    "        \n",
    "        \n",
    "print(rxr)"
   ]
  },
  {
   "cell_type": "code",
   "execution_count": 197,
   "metadata": {},
   "outputs": [
    {
     "data": {
      "text/html": [
       "<div>\n",
       "<style scoped>\n",
       "    .dataframe tbody tr th:only-of-type {\n",
       "        vertical-align: middle;\n",
       "    }\n",
       "\n",
       "    .dataframe tbody tr th {\n",
       "        vertical-align: top;\n",
       "    }\n",
       "\n",
       "    .dataframe thead th {\n",
       "        text-align: right;\n",
       "    }\n",
       "</style>\n",
       "<table border=\"1\" class=\"dataframe\">\n",
       "  <thead>\n",
       "    <tr style=\"text-align: right;\">\n",
       "      <th></th>\n",
       "      <th>word</th>\n",
       "      <th>correct</th>\n",
       "      <th>suggestions</th>\n",
       "    </tr>\n",
       "  </thead>\n",
       "  <tbody>\n",
       "    <tr>\n",
       "      <th>0</th>\n",
       "      <td>түйген</td>\n",
       "      <td>сүйген</td>\n",
       "      <td>{'сүйген'}</td>\n",
       "    </tr>\n",
       "    <tr>\n",
       "      <th>1</th>\n",
       "      <td>ойларды</td>\n",
       "      <td>оларды</td>\n",
       "      <td>{'оларды'}</td>\n",
       "    </tr>\n",
       "    <tr>\n",
       "      <th>2</th>\n",
       "      <td>Сіздерді</td>\n",
       "      <td>көздерді</td>\n",
       "      <td>{'көздерді', 'іздері'}</td>\n",
       "    </tr>\n",
       "    <tr>\n",
       "      <th>3</th>\n",
       "      <td>өмірлік</td>\n",
       "      <td>өмірі</td>\n",
       "      <td>{'өмірім', 'өмірі', 'өмірін', 'өтірік'}</td>\n",
       "    </tr>\n",
       "    <tr>\n",
       "      <th>4</th>\n",
       "      <td>басымнан</td>\n",
       "      <td>басынан</td>\n",
       "      <td>{'басынан'}</td>\n",
       "    </tr>\n",
       "    <tr>\n",
       "      <th>5</th>\n",
       "      <td>пайдалы</td>\n",
       "      <td>пайда</td>\n",
       "      <td>{'пайда'}</td>\n",
       "    </tr>\n",
       "    <tr>\n",
       "      <th>6</th>\n",
       "      <td>өткізген</td>\n",
       "      <td>өткізгім</td>\n",
       "      <td>{'өткізгім'}</td>\n",
       "    </tr>\n",
       "  </tbody>\n",
       "</table>\n",
       "</div>"
      ],
      "text/plain": [
       "       word   correct                              suggestions\n",
       "0    түйген    сүйген                               {'сүйген'}\n",
       "1   ойларды    оларды                               {'оларды'}\n",
       "2  Сіздерді  көздерді                   {'көздерді', 'іздері'}\n",
       "3   өмірлік     өмірі  {'өмірім', 'өмірі', 'өмірін', 'өтірік'}\n",
       "4  басымнан   басынан                              {'басынан'}\n",
       "5   пайдалы     пайда                                {'пайда'}\n",
       "6  өткізген  өткізгім                             {'өткізгім'}"
      ]
     },
     "execution_count": 197,
     "metadata": {},
     "output_type": "execute_result"
    }
   ],
   "source": [
    "words = []\n",
    "correct_word = []\n",
    "suggestion = []\n",
    "for word in rxr:\n",
    "    if(word != spell.correction(word) and spell.correction(word) != None):\n",
    "        words.append(f'{word}')\n",
    "        correct_word.append(f'{spell.correction(word)}')\n",
    "        suggestion.append(f'{spell.candidates(word)}')\n",
    "dict = {'word':words, 'correct': correct_word, 'suggestions': suggestion}\n",
    "df = pd.DataFrame(dict)\n",
    "df.to_csv(\"word.csv\")\n",
    "df = pd.read_csv(\"word.csv\", skiprows=[1], usecols=range(1,4), index_col=False)\n",
    "df"
   ]
  },
  {
   "cell_type": "code",
   "execution_count": 180,
   "metadata": {},
   "outputs": [],
   "source": [
    "import codecs\n",
    "f=codecs.open(\"C:/Users/samat/Downloads/Telegram Desktop/ChatExport_2022-12-29 (3)/messages.html\", 'r', encoding='utf-8')\n",
    "html = f.read()"
   ]
  },
  {
   "cell_type": "code",
   "execution_count": 181,
   "metadata": {},
   "outputs": [
    {
     "data": {
      "text/plain": [
       "['calandar', 'lightering', 'misspel', 'орус']"
      ]
     },
     "execution_count": 181,
     "metadata": {},
     "output_type": "execute_result"
    }
   ],
   "source": [
    "docx = [\"calandar\", \"lightering\", \"misspel\", \"орус\"]\n",
    "docx"
   ]
  },
  {
   "cell_type": "code",
   "execution_count": 182,
   "metadata": {},
   "outputs": [
    {
     "name": "stdout",
     "output_type": "stream",
     "text": [
      "calandar:calendar\n",
      "lightering:lightening\n",
      "misspel:misspell\n",
      "орус:орыс\n"
     ]
    }
   ],
   "source": [
    "for word in docx:\n",
    "    print(f'{word}:{spell.correction(word)}')"
   ]
  },
  {
   "cell_type": "code",
   "execution_count": 183,
   "metadata": {},
   "outputs": [
    {
     "data": {
      "text/html": [
       "<div>\n",
       "<style scoped>\n",
       "    .dataframe tbody tr th:only-of-type {\n",
       "        vertical-align: middle;\n",
       "    }\n",
       "\n",
       "    .dataframe tbody tr th {\n",
       "        vertical-align: top;\n",
       "    }\n",
       "\n",
       "    .dataframe thead th {\n",
       "        text-align: right;\n",
       "    }\n",
       "</style>\n",
       "<table border=\"1\" class=\"dataframe\">\n",
       "  <thead>\n",
       "    <tr style=\"text-align: right;\">\n",
       "      <th></th>\n",
       "      <th>word</th>\n",
       "      <th>correct</th>\n",
       "      <th>suggestions</th>\n",
       "    </tr>\n",
       "  </thead>\n",
       "  <tbody>\n",
       "    <tr>\n",
       "      <th>0</th>\n",
       "      <td></td>\n",
       "      <td>i</td>\n",
       "      <td>{о, a, ү, у, ұ, ш, u, e, i, y, o}</td>\n",
       "    </tr>\n",
       "    <tr>\n",
       "      <th>1</th>\n",
       "      <td>19:00</td>\n",
       "      <td>None</td>\n",
       "      <td>None</td>\n",
       "    </tr>\n",
       "    <tr>\n",
       "      <th>2</th>\n",
       "      <td>Жолдыбайұлы:</td>\n",
       "      <td>None</td>\n",
       "      <td>None</td>\n",
       "    </tr>\n",
       "    <tr>\n",
       "      <th>3</th>\n",
       "      <td>Подкастымыздың</td>\n",
       "      <td>None</td>\n",
       "      <td>None</td>\n",
       "    </tr>\n",
       "    <tr>\n",
       "      <th>4</th>\n",
       "      <td>басшысына</td>\n",
       "      <td>None</td>\n",
       "      <td>None</td>\n",
       "    </tr>\n",
       "    <tr>\n",
       "      <th>...</th>\n",
       "      <td>...</td>\n",
       "      <td>...</td>\n",
       "      <td>...</td>\n",
       "    </tr>\n",
       "    <tr>\n",
       "      <th>211</th>\n",
       "      <td>Әр</td>\n",
       "      <td>Әр</td>\n",
       "      <td>{Әр}</td>\n",
       "    </tr>\n",
       "    <tr>\n",
       "      <th>212</th>\n",
       "      <td>шетелге</td>\n",
       "      <td>шетел</td>\n",
       "      <td>{шетел}</td>\n",
       "    </tr>\n",
       "    <tr>\n",
       "      <th>213</th>\n",
       "      <td>сотқа</td>\n",
       "      <td>артқа</td>\n",
       "      <td>{соға, артқа, сонда, тоқта, жоққа, босқа, сата...</td>\n",
       "    </tr>\n",
       "    <tr>\n",
       "      <th>214</th>\n",
       "      <td>па?</td>\n",
       "      <td>па</td>\n",
       "      <td>{па}</td>\n",
       "    </tr>\n",
       "    <tr>\n",
       "      <th>215</th>\n",
       "      <td>11:15</td>\n",
       "      <td>None</td>\n",
       "      <td>None</td>\n",
       "    </tr>\n",
       "  </tbody>\n",
       "</table>\n",
       "<p>216 rows × 3 columns</p>\n",
       "</div>"
      ],
      "text/plain": [
       "               word correct                                        suggestions\n",
       "0                         i                  {о, a, ү, у, ұ, ш, u, e, i, y, o}\n",
       "1             19:00    None                                               None\n",
       "2      Жолдыбайұлы:    None                                               None\n",
       "3    Подкастымыздың    None                                               None\n",
       "4         басшысына    None                                               None\n",
       "..              ...     ...                                                ...\n",
       "211              Әр      Әр                                               {Әр}\n",
       "212         шетелге   шетел                                            {шетел}\n",
       "213           сотқа   артқа  {соға, артқа, сонда, тоқта, жоққа, босқа, сата...\n",
       "214             па?      па                                               {па}\n",
       "215           11:15    None                                               None\n",
       "\n",
       "[216 rows x 3 columns]"
      ]
     },
     "execution_count": 183,
     "metadata": {},
     "output_type": "execute_result"
    }
   ],
   "source": [
    "import html2text\n",
    "\n",
    "h = html2text.HTML2Text()\n",
    "\n",
    "h.ignore_links = True\n",
    "fin=h.handle(html)\n",
    "rxr1 = {item.strip(\".,!\\n:?\") for item in fin.split(' ')}\n",
    "words = []\n",
    "correct_word = []\n",
    "suggestion = []\n",
    "for word in rxr1:\n",
    "    words.append(f'{word}')\n",
    "    correct_word.append(f'{spell.correction(word)}')\n",
    "    suggestion.append(spell.candidates(word))\n",
    "dict = {'word':words, 'correct': correct_word, 'suggestions': suggestion}\n",
    "df = pd.DataFrame(dict)\n",
    "df.to_csv(\"word.csv\")\n",
    "df"
   ]
  }
 ],
 "metadata": {
  "kernelspec": {
   "display_name": "Python 3",
   "language": "python",
   "name": "python3"
  },
  "language_info": {
   "codemirror_mode": {
    "name": "ipython",
    "version": 3
   },
   "file_extension": ".py",
   "mimetype": "text/x-python",
   "name": "python",
   "nbconvert_exporter": "python",
   "pygments_lexer": "ipython3",
   "version": "3.10.2"
  },
  "orig_nbformat": 4,
  "vscode": {
   "interpreter": {
    "hash": "df3fff90c0c0fd035b6d3eea17dd5bccca6a36534bd1c559b2d6cea61b88ec5b"
   }
  }
 },
 "nbformat": 4,
 "nbformat_minor": 2
}
